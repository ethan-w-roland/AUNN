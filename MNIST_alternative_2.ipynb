{
 "cells": [
  {
   "cell_type": "markdown",
   "metadata": {},
   "source": [
    "## MNIST Classification / Generation using AUNN"
   ]
  },
  {
   "cell_type": "markdown",
   "metadata": {},
   "source": [
    "## Setup & Definition"
   ]
  },
  {
   "cell_type": "code",
   "execution_count": 1,
   "metadata": {},
   "outputs": [
    {
     "name": "stdout",
     "output_type": "stream",
     "text": [
      "cuda\n",
      "0\n"
     ]
    }
   ],
   "source": [
    "import torch\n",
    "import random\n",
    "import torch.optim as optim\n",
    "import torch.nn as nn\n",
    "import numpy as np\n",
    "from tqdm.notebook import tqdm\n",
    "from matplotlib import pyplot as plt\n",
    "\n",
    "device = torch.device('cuda' if torch.cuda.is_available() else 'cpu')\n",
    "print(device)\n",
    "\n",
    "#deallocate all cuda memory\n",
    "torch.cuda.empty_cache()\n",
    "\n",
    "#print cuda memory\n",
    "print(torch.cuda.memory_allocated())"
   ]
  },
  {
   "cell_type": "code",
   "execution_count": 2,
   "metadata": {},
   "outputs": [],
   "source": [
    "class AUNNModel(nn.Module):\n",
    "    def __init__(self, embedding_dim:int, output_dim:int, num_layers:int, hidden_dim:int):\n",
    "\n",
    "        assert num_layers >= 2, \"Number of layers must be at least 2\"\n",
    "\n",
    "        super(AUNNModel, self).__init__()\n",
    "    \n",
    "        self.embedding_dim = embedding_dim\n",
    "        self.output_dim = output_dim\n",
    "        self.num_layers = num_layers\n",
    "        self.hidden_dim = hidden_dim\n",
    "\n",
    "        # Input Layer\n",
    "        self.input_layer =  nn.Linear(self.embedding_dim, self.hidden_dim)\n",
    "\n",
    "        # Hidden Layers\n",
    "        self.layers = nn.ModuleList()\n",
    "        for _ in range(self.num_layers - 2):  # Exclude input and output layers\n",
    "            self.layers.append(nn.Sequential(\n",
    "                nn.Linear(self.hidden_dim, self.hidden_dim),\n",
    "                nn.SiLU()\n",
    "            ))\n",
    "\n",
    "        # Output Layer\n",
    "        self.output_layer = nn.Linear(self.hidden_dim, self.output_dim)\n",
    "\n",
    "        # Initialize weights\n",
    "        self._initialize_weights()\n",
    "\n",
    "    def _initialize_weights(self):\n",
    "\n",
    "        for m in self.modules():\n",
    "            if isinstance(m, nn.Linear):\n",
    "                # Kaiming He initialization for Swish activation\n",
    "                nn.init.kaiming_normal_(m.weight)\n",
    "                if m.bias is not None:\n",
    "                    nn.init.zeros_(m.bias)\n",
    "\n",
    "    def count_params(self):\n",
    "        return sum(p.numel() for p in self.parameters() if p.requires_grad)\n",
    "\n",
    "    # def encode(self, x, dim):\n",
    "\n",
    "    #     position = x.unsqueeze(1)\n",
    "    #     device = x.device  # Get the device of x\n",
    "\n",
    "    #     # Create div_term on the same device as x\n",
    "    #     div_term = torch.exp(\n",
    "    #         torch.arange(0, dim, 2, dtype=torch.float32, device=device) *\\\n",
    "    #             (-np.log(10_000.0) / dim)\n",
    "    #     )\n",
    "\n",
    "    #     # Create pe on the same device as x\n",
    "    #     pe = torch.zeros(x.size(0), dim, device=device)\n",
    "\n",
    "    #     # Perform computations\n",
    "    #     pe[:, 0::2] = torch.sin(position * div_term)\n",
    "    #     pe[:, 1::2] = torch.cos(position * div_term)\n",
    "    #     return pe\n",
    "\n",
    "    def encode(self, x: torch.Tensor, dim: int = 128):\n",
    "\n",
    "        assert dim % 2 == 0, \"Encoding dimension (dim) must be even.\"\n",
    "\n",
    "        # Determine the number of frequencies\n",
    "        num_frequencies = dim // 2\n",
    "\n",
    "        # Frequencies corresponding to powers of two, starting from 2^2\n",
    "        frequency_powers = torch.arange(2, 2 + num_frequencies, dtype=torch.float32, device=x.device)\n",
    "        frequencies = 2 ** frequency_powers  # Shape: [num_frequencies]\n",
    "\n",
    "        # Compute the angles: [N, num_frequencies]\n",
    "        x = x.unsqueeze(1)  # Shape: [N, 1]\n",
    "        angles = (2 * torch.pi * x) / frequencies  # Broadcasting over x and frequencies\n",
    "\n",
    "        # Compute the positional encodings\n",
    "        encoding = torch.zeros(x.size(0), dim, device=x.device)\n",
    "        encoding[:, 0::2] = torch.sin(angles)  # Even indices: sin\n",
    "        encoding[:, 1::2] = torch.cos(angles)  # Odd indices: cos\n",
    "\n",
    "        return encoding\n",
    "\n",
    "\n",
    "    def forward(self, indices):\n",
    "        \n",
    "        x = self.encode(indices, self.embedding_dim)\n",
    "        x = self.input_layer(x)\n",
    "        x = x + nn.SiLU()(x)\n",
    "\n",
    "        for layer in self.layers:\n",
    "            x = x + layer(x)  # MLP output with skip connection\n",
    "\n",
    "        x = self.output_layer(x)\n",
    "\n",
    "        return x"
   ]
  },
  {
   "cell_type": "code",
   "execution_count": 3,
   "metadata": {},
   "outputs": [],
   "source": [
    "# Define a function to save the model checkpoint\n",
    "def save_checkpoint(model, params, optimizer, losses, filename=\"checkpoint.pth\"):\n",
    "    \n",
    "    checkpoint = {\n",
    "        'model_state_dict': model.state_dict(),\n",
    "        'optimizer_state_dict': optimizer.state_dict(),\n",
    "        'losses': losses,\n",
    "    }\n",
    "\n",
    "    keys = ['embedding_dim', 'output_dim', 'num_layers', 'hidden_dim']\n",
    "    assert all(k in params for k in keys)\n",
    "    for k in keys:\n",
    "        checkpoint[k] = params[k]\n",
    "\n",
    "    torch.save(checkpoint, filename)\n",
    "    print(f\"Checkpoint saved with loss {losses[-1]:.4f}\")"
   ]
  },
  {
   "cell_type": "code",
   "execution_count": 4,
   "metadata": {},
   "outputs": [],
   "source": [
    "def load_checkpoint(filename=\"checkpoint.pth\"):\n",
    "\n",
    "    checkpoint = torch.load(filename, weights_only=True)\n",
    "    \n",
    "    keys = ['embedding_dim', 'output_dim', 'num_layers', 'hidden_dim']\n",
    "    params = {k: checkpoint[k] for k in keys}\n",
    "    \n",
    "    model = AUNNModel(**params)\n",
    "    model.load_state_dict(checkpoint['model_state_dict'])\n",
    "    model.to(device)\n",
    "    \n",
    "    optimizer = optim.AdamW(model.parameters())\n",
    "    optimizer.load_state_dict(checkpoint['optimizer_state_dict'])\n",
    "    \n",
    "    losses = checkpoint['losses']\n",
    "\n",
    "    print(f\"Checkpoint loaded: loss {losses[-1]:.4f}\")\n",
    "\n",
    "    return model, optimizer, losses"
   ]
  },
  {
   "cell_type": "markdown",
   "metadata": {},
   "source": [
    "## Prepare MNIST"
   ]
  },
  {
   "cell_type": "code",
   "execution_count": 5,
   "metadata": {},
   "outputs": [],
   "source": [
    "import struct\n",
    "from array import array\n",
    "\n",
    "def load_mnist(images_path, labels_path, shuffle=False, seed=42):\n",
    "\n",
    "    labels = []\n",
    "    with open(labels_path, 'rb') as file:\n",
    "        magic, size = struct.unpack(\">II\", file.read(8)) \n",
    "        if magic != 2049:\n",
    "            raise ValueError('Magic number mismatch, expected 2049, got {}'.format(magic))\n",
    "        labels = array(\"B\", file.read())\n",
    "\n",
    "    images = []\n",
    "    rows, cols = None, None\n",
    "    with open(images_path, 'rb') as file:\n",
    "        magic, size, rows, cols = struct.unpack(\">IIII\", file.read(16))\n",
    "        if magic != 2051:\n",
    "            raise ValueError('Magic number mismatch, expected 2051, got {}'.format(magic))\n",
    "        data = array(\"B\", file.read())\n",
    "        for i in range(size):\n",
    "            img = np.array(data[i * rows * cols:(i + 1) * rows * cols], dtype=np.uint8)\n",
    "            img = np.where(img > 0, 1, 0) #binarize\n",
    "            img.resize((rows, cols))\n",
    "            images.append(img)\n",
    "\n",
    "    assert len(images) == len(labels)\n",
    "\n",
    "    if shuffle:\n",
    "        random.seed(seed)\n",
    "        indices = list(range(len(images)))\n",
    "        random.shuffle(indices)\n",
    "        images = [images[i] for i in indices]\n",
    "        labels = [labels[i] for i in indices]\n",
    "\n",
    "    return images, labels\n",
    "\n",
    "def make_bitstring(images, labels, bos_len = 10):\n",
    "    \n",
    "    targets = []\n",
    "    for img, label in zip(images, labels):\n",
    "\n",
    "        #add a begin-sequence indicators\n",
    "        begin_sequence = np.ones(bos_len, dtype=np.uint8)\n",
    "        targets.append(begin_sequence)\n",
    "\n",
    "        #one hot encode the label\n",
    "        label_date = np.zeros(10, dtype=np.uint8)\n",
    "        label_date[label] = 1\n",
    "        targets.append(label_date)\n",
    "\n",
    "        #add image to inputs\n",
    "        img_data = img.flatten()\n",
    "        targets.append(img_data)\n",
    "\n",
    "        #add the label again\n",
    "        label_data = np.zeros(10, dtype=np.uint8)\n",
    "        label_data[label] = 1\n",
    "        targets.append(label_data)\n",
    "\n",
    "    targets = np.concatenate(targets, axis=0)\n",
    "    return targets"
   ]
  },
  {
   "cell_type": "code",
   "execution_count": 6,
   "metadata": {},
   "outputs": [
    {
     "name": "stdout",
     "output_type": "stream",
     "text": [
      "48840000\n"
     ]
    }
   ],
   "source": [
    "from pathlib import Path\n",
    "\n",
    "cur_dir = Path().resolve()\n",
    "input_path = cur_dir / 'mnist'\n",
    "training_images_filepath = input_path / 'train-images.idx3-ubyte'\n",
    "training_labels_filepath = input_path /'train-labels.idx1-ubyte'\n",
    "test_images_filepath = input_path / 't10k-images.idx3-ubyte'\n",
    "test_labels_filepath = input_path / 't10k-labels.idx1-ubyte'\n",
    "\n",
    "train_images, train_labels = load_mnist(training_images_filepath, training_labels_filepath)\n",
    "train_bitstring = make_bitstring(train_images, train_labels)\n",
    "print(len(train_bitstring))"
   ]
  },
  {
   "cell_type": "code",
   "execution_count": 7,
   "metadata": {},
   "outputs": [],
   "source": [
    "#shuffle train_bitstring\n",
    "selectors = np.arange(len(train_bitstring))\n",
    "np.random.seed(42)\n",
    "np.random.shuffle(selectors)\n",
    "indices = np.arange(len(train_bitstring))\n",
    "train_bitstring = train_bitstring[selectors]\n",
    "indices = indices[selectors]"
   ]
  },
  {
   "cell_type": "markdown",
   "metadata": {},
   "source": [
    "## Train"
   ]
  },
  {
   "cell_type": "code",
   "execution_count": 8,
   "metadata": {},
   "outputs": [],
   "source": [
    "# Hyperparameters\n",
    "\n",
    "embedd_dim = 128\n",
    "num_layers = 8    # Must be even and at least 2 (bc of skip connections)\n",
    "hidden_dim = 1024  # Size of hidden layers\n",
    "output_dim = 2\n",
    "batch_size = 4096\n",
    "num_epochs = 500"
   ]
  },
  {
   "cell_type": "code",
   "execution_count": 9,
   "metadata": {},
   "outputs": [
    {
     "name": "stdout",
     "output_type": "stream",
     "text": [
      "Model has 6,431,746 parameters\n"
     ]
    }
   ],
   "source": [
    "# Initialize the model, loss function, and optimizer\n",
    "model = AUNNModel(embedd_dim, output_dim, num_layers, hidden_dim).to(device)\n",
    "criterion = nn.CrossEntropyLoss()\n",
    "optimizer = optim.AdamW(model.parameters())\n",
    "print(f\"Model has {model.count_params():,} parameters\")"
   ]
  },
  {
   "cell_type": "code",
   "execution_count": 10,
   "metadata": {},
   "outputs": [
    {
     "data": {
      "application/vnd.jupyter.widget-view+json": {
       "model_id": "23d656625e7249938f2896fe0e7ceb37",
       "version_major": 2,
       "version_minor": 0
      },
      "text/plain": [
       "  0%|          | 0/11924 [00:00<?, ?it/s]"
      ]
     },
     "metadata": {},
     "output_type": "display_data"
    },
    {
     "name": "stdout",
     "output_type": "stream",
     "text": [
      "Batch [0/11924], Loss: 16.03270149\n",
      "Batch [1000/11924], Loss: 1.07178103\n",
      "Batch [2000/11924], Loss: 0.49962048\n",
      "Batch [3000/11924], Loss: 0.49981332\n",
      "Batch [4000/11924], Loss: 0.49923741\n",
      "Batch [5000/11924], Loss: 0.49939789\n",
      "Batch [6000/11924], Loss: 0.49941404\n",
      "Batch [7000/11924], Loss: 0.49977783\n",
      "Batch [8000/11924], Loss: 0.49940118\n",
      "Batch [9000/11924], Loss: 0.49903649\n",
      "Batch [10000/11924], Loss: 0.49911233\n"
     ]
    },
    {
     "ename": "KeyboardInterrupt",
     "evalue": "",
     "output_type": "error",
     "traceback": [
      "\u001b[1;31m---------------------------------------------------------------------------\u001b[0m",
      "\u001b[1;31mKeyboardInterrupt\u001b[0m                         Traceback (most recent call last)",
      "Cell \u001b[1;32mIn[10], line 26\u001b[0m\n\u001b[0;32m     23\u001b[0m \u001b[38;5;28;01mif\u001b[39;00m loss \u001b[38;5;241m!=\u001b[39m loss:\n\u001b[0;32m     24\u001b[0m     \u001b[38;5;28mprint\u001b[39m(\u001b[38;5;124m\"\u001b[39m\u001b[38;5;124mERR loss is NaN\u001b[39m\u001b[38;5;124m\"\u001b[39m)\n\u001b[1;32m---> 26\u001b[0m cur_loss \u001b[38;5;241m=\u001b[39m \u001b[43mloss\u001b[49m\u001b[38;5;241;43m.\u001b[39;49m\u001b[43mitem\u001b[49m\u001b[43m(\u001b[49m\u001b[43m)\u001b[49m\n\u001b[0;32m     27\u001b[0m losses\u001b[38;5;241m.\u001b[39mappend(cur_loss)\n\u001b[0;32m     29\u001b[0m \u001b[38;5;28;01mif\u001b[39;00m batch_num \u001b[38;5;241m%\u001b[39m \u001b[38;5;241m1000\u001b[39m \u001b[38;5;241m==\u001b[39m \u001b[38;5;241m0\u001b[39m: \u001b[38;5;66;03m# batch logging\u001b[39;00m\n",
      "\u001b[1;31mKeyboardInterrupt\u001b[0m: "
     ]
    }
   ],
   "source": [
    "train_bitstring = torch.tensor(train_bitstring, dtype=torch.uint8).to(device)\n",
    "indices = torch.tensor(indices, dtype=torch.uint8).to(device)\n",
    "\n",
    "#training loop\n",
    "num_batches = len(train_bitstring) // batch_size\n",
    "if len(train_bitstring) % batch_size != 0:\n",
    "    num_batches += 1\n",
    "losses = []\n",
    "for epoch in range(num_epochs):\n",
    "    for batch_num in tqdm(list(range(num_batches))):\n",
    "\n",
    "        start = batch_num * batch_size\n",
    "        end = start + batch_size\n",
    "        targets = train_bitstring[start:end]\n",
    "        inputs = indices[start:end]\n",
    "        outputs = model(inputs)\n",
    "        loss = criterion(outputs, targets)\n",
    "        loss.backward()\n",
    "        torch.nn.utils.clip_grad_norm_(model.parameters(), max_norm=1.0) #clip gradients\n",
    "        optimizer.step()\n",
    "        optimizer.zero_grad(set_to_none=True) #flush gradients\n",
    "\n",
    "        if loss != loss:\n",
    "            print(\"ERR loss is NaN\")\n",
    "\n",
    "        cur_loss = loss.item()\n",
    "        losses.append(cur_loss)\n",
    "\n",
    "        if batch_num % 1000 == 0: # batch logging\n",
    "            avg_loss = np.mean(losses[-1000:])\n",
    "            print(f\"Batch [{batch_num}/{num_batches}], Loss: {avg_loss:.8f}\")"
   ]
  },
  {
   "cell_type": "code",
   "execution_count": 12,
   "metadata": {},
   "outputs": [
    {
     "data": {
      "image/png": "[encoded data removed]",
      "text/plain": [
       "<Figure size 2000x600 with 1 Axes>"
      ]
     },
     "metadata": {},
     "output_type": "display_data"
    }
   ],
   "source": [
    "# Plot the loss curves\n",
    "temp = [x if x < 1 else 1 for x in losses] #clip losses to 1\n",
    "plt.figure(figsize=(20, 6))\n",
    "plt.plot(temp, label=\"Training Loss\")\n",
    "plt.xlabel(\"Steps\")\n",
    "plt.ylabel(\"Loss\")\n",
    "plt.title(\"Training Loss\")\n",
    "plt.legend()\n",
    "plt.show()"
   ]
  },
  {
   "cell_type": "code",
   "execution_count": null,
   "metadata": {},
   "outputs": [],
   "source": [
    "save_checkpoint(model, {\n",
    "    'embedding_dim': embedd_dim,\n",
    "    'output_dim': output_dim,\n",
    "    'num_layers': num_layers,\n",
    "    'hidden_dim': hidden_dim\n",
    "}, optimizer, losses, filename=\"aunn_mnist.pth\")"
   ]
  },
  {
   "cell_type": "code",
   "execution_count": 13,
   "metadata": {},
   "outputs": [
    {
     "name": "stdout",
     "output_type": "stream",
     "text": [
      "814\n",
      "[1 1 1 1 1 1 1 1 1 1]\n",
      "[0 0 0 0 0 1 0 0 0 0]\n",
      "[[0 0 0 0 0 0 0 0 0 0 0 0 0 0 0 0 0 0 0 0 0 0 0 0 0 0 0 0]\n",
      " [0 0 0 0 0 0 0 0 0 0 0 0 0 0 0 0 0 0 0 0 0 0 0 0 0 0 0 0]\n",
      " [0 0 0 0 0 0 0 0 0 0 0 0 0 0 0 0 0 0 0 0 0 0 0 0 0 0 0 0]\n",
      " [0 0 0 0 0 0 0 0 0 0 0 0 0 0 0 0 0 0 0 0 0 0 0 0 0 0 0 0]\n",
      " [0 0 0 0 0 0 0 0 0 0 0 0 0 0 0 0 0 0 0 0 0 0 0 0 0 0 0 0]\n",
      " [0 0 0 0 0 0 0 0 0 0 0 0 1 1 1 1 1 1 1 1 1 1 1 1 0 0 0 0]\n",
      " [0 0 0 0 0 0 0 0 1 1 1 1 1 1 1 1 1 1 1 1 1 1 1 1 0 0 0 0]\n",
      " [0 0 0 0 0 0 0 1 1 1 1 1 1 1 1 1 1 1 1 1 1 1 1 0 0 0 0 0]\n",
      " [0 0 0 0 0 0 0 1 1 1 1 1 1 1 1 1 1 1 0 0 0 0 0 0 0 0 0 0]\n",
      " [0 0 0 0 0 0 0 0 1 1 1 1 1 1 1 0 1 1 0 0 0 0 0 0 0 0 0 0]\n",
      " [0 0 0 0 0 0 0 0 0 1 1 1 1 1 0 0 0 0 0 0 0 0 0 0 0 0 0 0]\n",
      " [0 0 0 0 0 0 0 0 0 0 0 1 1 1 1 0 0 0 0 0 0 0 0 0 0 0 0 0]\n",
      " [0 0 0 0 0 0 0 0 0 0 0 1 1 1 1 0 0 0 0 0 0 0 0 0 0 0 0 0]\n",
      " [0 0 0 0 0 0 0 0 0 0 0 0 1 1 1 1 1 1 0 0 0 0 0 0 0 0 0 0]\n",
      " [0 0 0 0 0 0 0 0 0 0 0 0 0 1 1 1 1 1 1 0 0 0 0 0 0 0 0 0]\n",
      " [0 0 0 0 0 0 0 0 0 0 0 0 0 0 1 1 1 1 1 1 0 0 0 0 0 0 0 0]\n",
      " [0 0 0 0 0 0 0 0 0 0 0 0 0 0 0 1 1 1 1 1 0 0 0 0 0 0 0 0]\n",
      " [0 0 0 0 0 0 0 0 0 0 0 0 0 0 0 0 0 1 1 1 1 0 0 0 0 0 0 0]\n",
      " [0 0 0 0 0 0 0 0 0 0 0 0 0 0 1 1 1 1 1 1 1 0 0 0 0 0 0 0]\n",
      " [0 0 0 0 0 0 0 0 0 0 0 0 1 1 1 1 1 1 1 1 0 0 0 0 0 0 0 0]\n",
      " [0 0 0 0 0 0 0 0 0 0 1 1 1 1 1 1 1 1 1 0 0 0 0 0 0 0 0 0]\n",
      " [0 0 0 0 0 0 0 0 1 1 1 1 1 1 1 1 1 1 0 0 0 0 0 0 0 0 0 0]\n",
      " [0 0 0 0 0 0 1 1 1 1 1 1 1 1 1 1 0 0 0 0 0 0 0 0 0 0 0 0]\n",
      " [0 0 0 0 1 1 1 1 1 1 1 1 1 1 0 0 0 0 0 0 0 0 0 0 0 0 0 0]\n",
      " [0 0 0 0 1 1 1 1 1 1 1 1 0 0 0 0 0 0 0 0 0 0 0 0 0 0 0 0]\n",
      " [0 0 0 0 0 0 0 0 0 0 0 0 0 0 0 0 0 0 0 0 0 0 0 0 0 0 0 0]\n",
      " [0 0 0 0 0 0 0 0 0 0 0 0 0 0 0 0 0 0 0 0 0 0 0 0 0 0 0 0]\n",
      " [0 0 0 0 0 0 0 0 0 0 0 0 0 0 0 0 0 0 0 0 0 0 0 0 0 0 0 0]]\n",
      "[0 0 0 0 0 1 0 0 0 0]\n",
      "--------------------\n",
      "[0 0 0 0 0 0 0 0 0 0]\n",
      "[0 0 0 0 0 0 0 0 0 0]\n",
      "[[0 0 0 0 0 0 0 0 0 0 0 0 0 0 0 0 0 0 0 0 0 0 0 0 0 0 0 0]\n",
      " [0 0 0 0 0 0 0 0 0 0 0 0 0 0 0 0 0 0 0 0 0 0 0 0 0 0 0 0]\n",
      " [0 0 0 0 0 0 0 0 0 0 0 0 0 0 0 0 0 0 0 0 0 0 0 0 0 0 0 0]\n",
      " [0 0 0 0 0 0 0 0 0 0 0 0 0 0 0 0 0 0 0 0 0 0 0 0 0 0 0 0]\n",
      " [0 0 0 0 0 0 0 0 0 0 0 0 0 0 0 0 0 0 0 0 0 0 0 0 0 0 0 0]\n",
      " [0 0 0 0 0 0 0 0 0 0 0 0 0 0 0 0 0 0 0 0 0 0 0 0 0 0 0 0]\n",
      " [0 0 0 0 0 0 0 0 0 0 0 0 0 0 0 0 0 0 0 0 0 0 0 0 0 0 0 0]\n",
      " [0 0 0 0 0 0 0 0 0 0 0 0 0 0 0 0 0 0 0 0 0 0 0 0 0 0 0 0]\n",
      " [0 0 0 0 0 0 0 0 0 0 0 0 0 0 0 0 0 0 0 0 0 0 0 0 0 0 0 0]\n",
      " [0 0 0 0 0 0 0 0 0 0 0 0 0 0 0 0 0 0 0 0 0 0 0 0 0 0 0 0]\n",
      " [0 0 0 0 0 0 0 0 0 0 0 0 0 0 0 0 0 0 0 0 0 0 0 0 0 0 0 0]\n",
      " [0 0 0 0 0 0 0 0 0 0 0 0 0 0 0 0 0 0 0 0 0 0 0 0 0 0 0 0]\n",
      " [0 0 0 0 0 0 0 0 0 0 0 0 0 0 0 0 0 0 0 0 0 0 0 0 0 0 0 0]\n",
      " [0 0 0 0 0 0 0 0 0 0 0 0 0 0 0 0 0 0 0 0 0 0 0 0 0 0 0 0]\n",
      " [0 0 0 0 0 0 0 0 0 0 0 0 0 0 0 0 0 0 0 0 0 0 0 0 0 0 0 0]\n",
      " [0 0 0 0 0 0 0 0 0 0 0 0 0 0 0 0 0 0 0 0 0 0 0 0 0 0 0 0]\n",
      " [0 0 0 0 0 0 0 0 0 0 0 0 0 0 0 0 0 0 0 0 0 0 0 0 0 0 0 0]\n",
      " [0 0 0 0 0 0 0 0 0 0 0 0 0 0 0 0 0 0 0 0 0 0 0 0 0 0 0 0]\n",
      " [0 0 0 0 0 0 0 0 0 0 0 0 0 0 0 0 0 0 0 0 0 0 0 0 0 0 0 0]\n",
      " [0 0 0 0 0 0 0 0 0 0 0 0 0 0 0 0 0 0 0 0 0 0 0 0 0 0 0 0]\n",
      " [0 0 0 0 0 0 0 0 0 0 0 0 0 0 0 0 0 0 0 0 0 0 0 0 0 0 0 0]\n",
      " [0 0 0 0 0 0 0 0 0 0 0 0 0 0 0 0 0 0 0 0 0 0 0 0 0 0 0 0]\n",
      " [0 0 0 0 0 0 0 0 0 0 0 0 0 0 0 0 0 0 0 0 0 0 0 0 0 0 0 0]\n",
      " [0 0 0 0 0 0 0 0 0 0 0 0 0 0 0 0 0 0 0 0 0 0 0 0 0 0 0 0]\n",
      " [0 0 0 0 0 0 0 0 0 0 0 0 0 0 0 0 0 0 0 0 0 0 0 0 0 0 0 0]\n",
      " [0 0 0 0 0 0 0 0 0 0 0 0 0 0 0 0 0 0 0 0 0 0 0 0 0 0 0 0]\n",
      " [0 0 0 0 0 0 0 0 0 0 0 0 0 0 0 0 0 0 0 0 0 0 0 0 0 0 0 0]\n",
      " [0 0 0 0 0 0 0 0 0 0 0 0 0 0 0 0 0 0 0 0 0 0 0 0 0 0 0 0]]\n",
      "[0 0 0 0 0 0 0 0 0 0]\n"
     ]
    }
   ],
   "source": [
    "bitstring = make_bitstring(train_images[:1], train_labels[:1])\n",
    "print(len(bitstring))\n",
    "\n",
    "bos = bitstring[:10]\n",
    "lbl = bitstring[10:20]\n",
    "img = bitstring[20:20+784]\n",
    "lbl2 = bitstring[20+784:20+784+10]\n",
    "\n",
    "print(bos)\n",
    "print(lbl)\n",
    "print(img.reshape(28, 28))\n",
    "print(lbl2)\n",
    "\n",
    "start = 0\n",
    "indices = torch.arange(start, start + len(bitstring), device=device)\n",
    "with torch.no_grad():\n",
    "    outputs = model(indices)\n",
    "    outputs = torch.argmax(outputs, dim=1)\n",
    "\n",
    "outputs = outputs.cpu().numpy()\n",
    "bos = outputs[start:start+10]\n",
    "lbl = outputs[start+10:start+20]\n",
    "img = outputs[start+20:start+20+784]\n",
    "lbl2 = outputs[start+20+784:start+20+784+10]\n",
    "\n",
    "print('-'*20)\n",
    "print(bos)\n",
    "print(lbl)\n",
    "print(img.reshape(28, 28))\n",
    "print(lbl2)"
   ]
  },
  {
   "cell_type": "code",
   "execution_count": null,
   "metadata": {},
   "outputs": [],
   "source": [
    "bos = np.ones(10, dtype=np.uint8)\n",
    "lbl = np.zeros(10, dtype=np.uint8)\n",
    "lbl[5] = 1\n",
    "\n",
    "target = np.concatenate([bos, lbl], axis=0)\n",
    "target = torch.tensor(target, dtype=torch.uint8, device=device)\n",
    "indices = torch.arange(100000000, 100000000+len(target), device=device)\n",
    "\n",
    "#train the model\n",
    "model.train()\n",
    "num_steps = 10\n",
    "for _ in range(num_steps):\n",
    "    outputs = model(indices)\n",
    "    loss = criterion(outputs, target)\n",
    "    loss.backward()\n",
    "    optimizer.step()\n",
    "    optimizer.zero_grad(set_to_none=True)\n",
    "    print(loss.item())\n",
    "\n",
    "#test the model\n",
    "model.eval()\n",
    "entry_len = 814\n",
    "indices = torch.arange(100000000, 100000000+entry_len, device=device)\n",
    "outputs = model(indices)\n",
    "outputs = torch.argmax(outputs, dim=1)\n",
    "outputs = outputs.cpu().numpy()\n",
    "\n",
    "bos = outputs[:10]\n",
    "lbl = outputs[10:20]\n",
    "img = outputs[20:20+784]\n",
    "lbl2 = outputs[20+784:20+784+10]\n",
    "\n",
    "print('-'*20)\n",
    "print(bos)\n",
    "print(lbl)\n",
    "print(img.reshape(28, 28))\n",
    "print(lbl2)\n"
   ]
  }
 ],
 "metadata": {
  "kernelspec": {
   "display_name": "venv",
   "language": "python",
   "name": "python3"
  },
  "language_info": {
   "codemirror_mode": {
    "name": "ipython",
    "version": 3
   },
   "file_extension": ".py",
   "mimetype": "text/x-python",
   "name": "python",
   "nbconvert_exporter": "python",
   "pygments_lexer": "ipython3",
   "version": "3.12.7"
  }
 },
 "nbformat": 4,
 "nbformat_minor": 2
}
